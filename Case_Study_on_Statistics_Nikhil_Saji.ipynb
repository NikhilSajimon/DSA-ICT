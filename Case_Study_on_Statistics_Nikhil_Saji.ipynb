{
  "nbformat": 4,
  "nbformat_minor": 0,
  "metadata": {
    "colab": {
      "provenance": [],
      "authorship_tag": "ABX9TyNVrwI8OLvZ1Z0p7Dp49KRJ",
      "include_colab_link": true
    },
    "kernelspec": {
      "name": "python3",
      "display_name": "Python 3"
    },
    "language_info": {
      "name": "python"
    }
  },
  "cells": [
    {
      "cell_type": "markdown",
      "metadata": {
        "id": "view-in-github",
        "colab_type": "text"
      },
      "source": [
        "<a href=\"https://colab.research.google.com/github/NikhilSajimon/DSA-ICT/blob/main/Case_Study_on_Statistics_Nikhil_Saji.ipynb\" target=\"_parent\"><img src=\"https://colab.research.google.com/assets/colab-badge.svg\" alt=\"Open In Colab\"/></a>"
      ]
    },
    {
      "cell_type": "code",
      "source": [
        "import statistics as st"
      ],
      "metadata": {
        "id": "72PGeL0Ly6Yb"
      },
      "execution_count": 1,
      "outputs": []
    },
    {
      "cell_type": "code",
      "source": [
        "#  1. Dataset: Monthly temperatures in a city (in °C): 12, 15, 14, 16, 18, 20, 22, 19,\n",
        "#  17, 15, 13, 10 Questions:\n",
        "#  a) Calculate the mean temperature.\n",
        "#  b) Calculate the median temperature.\n",
        "#  c) Find the mode of the temperature data.\n",
        "#  d) Range and Variance"
      ],
      "metadata": {
        "id": "CvpiwWaRi_q6"
      },
      "execution_count": 2,
      "outputs": []
    },
    {
      "cell_type": "code",
      "execution_count": 3,
      "metadata": {
        "colab": {
          "base_uri": "https://localhost:8080/"
        },
        "id": "rgrBbiD6hgD8",
        "outputId": "368cc8df-8368-4756-f2de-2337676be94a"
      },
      "outputs": [
        {
          "output_type": "stream",
          "name": "stdout",
          "text": [
            "The mean temperature is 15.92 °C.\n",
            "The median temperature is 15.50 °C.\n",
            "The mode temperature is 15.00 °C.\n",
            "Range: 12\n",
            "Variance: 12.083333333333332\n"
          ]
        }
      ],
      "source": [
        "monthly_temperatures = [12, 15, 14, 16, 18, 20, 22, 19, 17, 15, 13, 10]\n",
        "\n",
        "def mean(lst):\n",
        "  return sum(lst) / len(lst)\n",
        "\n",
        "\n",
        "def median(lst):\n",
        "  lst.sort()\n",
        "  length = len(lst)\n",
        "  if length % 2 == 0:\n",
        "    return (lst[length // 2] + lst[(length // 2) - 1]) / 2\n",
        "  else:\n",
        "    return lst[length // 2]\n",
        "\n",
        "\n",
        "def mode(lst):\n",
        "  elements = set(lst)\n",
        "  mode_list = {}\n",
        "\n",
        "  for num in elements:\n",
        "    counts = lst.count(num)\n",
        "    mode_list[num] = counts\n",
        "\n",
        "\n",
        "  mod_count = list(mode_list.values())[1]\n",
        "\n",
        "  for num, count in mode_list.items():\n",
        "    if count > mod_count:\n",
        "      mod_count = count\n",
        "\n",
        "  multiple_mods = []\n",
        "\n",
        "  for num, count in mode_list.items():\n",
        "    if count == mod_count and count != 1:\n",
        "      multiple_mods.append(num)\n",
        "\n",
        "  if len(multiple_mods) == 1:\n",
        "    return multiple_mods[0]\n",
        "\n",
        "  if len(multiple_mods) == 0:\n",
        "    return None\n",
        "\n",
        "  return multiple_mods\n",
        "\n",
        "\n",
        "\n",
        "\n",
        "def variance(lst):\n",
        "\n",
        "  mean_val = mean(lst)\n",
        "  xi_minus_mean_list = [(xi - mean_val) for xi in lst]\n",
        "  xi_minus_mean_squared_list = [(num ** 2) for num in xi_minus_mean_list]\n",
        "  variance = sum(xi_minus_mean_squared_list) / (len(lst) - 1)\n",
        "\n",
        "  return variance\n",
        "\n",
        "\n",
        "def standard_deviation(lst):\n",
        "  return variance(lst) ** 0.5\n",
        "\n",
        "\n",
        "\n",
        "\n",
        "print(f'The mean temperature is {mean(monthly_temperatures):.2f} °C.')\n",
        "print(f'The median temperature is {median(monthly_temperatures):.2f} °C.')\n",
        "print(f'The mode temperature is {mode(monthly_temperatures):.2f} °C.')\n",
        "print(f'Range: {max(monthly_temperatures) - min(monthly_temperatures)}')\n",
        "print(f'Variance: {variance(monthly_temperatures)}')\n"
      ]
    },
    {
      "cell_type": "code",
      "source": [
        "#  2. Dataset: Heights of students (in cm): 150, 160, 165, 170, 155, 160, 162, 168\n",
        "#  Questions: a) Calculate the range of the heights.\n",
        "#  b) Calculate the variance of the heights.\n",
        "#  c) Standard Deviation"
      ],
      "metadata": {
        "id": "Ie9h7Ewqoi_K"
      },
      "execution_count": 4,
      "outputs": []
    },
    {
      "cell_type": "code",
      "source": [
        "heights = [150, 160, 165, 170, 155, 160, 162, 168]\n",
        "\n",
        "print(f'The range of the heights is {max(heights) - min(heights)}')\n",
        "print(f'Variance : {variance(heights)}')\n",
        "print(f'Standard deviation: {standard_deviation(heights):.2f}')\n"
      ],
      "metadata": {
        "colab": {
          "base_uri": "https://localhost:8080/"
        },
        "id": "FMh-_vq6ost1",
        "outputId": "251680e1-50df-4a6a-ba27-4442781729bb"
      },
      "execution_count": 5,
      "outputs": [
        {
          "output_type": "stream",
          "name": "stdout",
          "text": [
            "The range of the heights is 20\n",
            "Variance : 43.642857142857146\n",
            "Standard deviation: 6.61\n"
          ]
        }
      ]
    },
    {
      "cell_type": "code",
      "source": [
        "#  3. Dataset: Weekly expenses (in $): 200, 250, 300, 220, 270, 290, 310\n",
        "#  Questions: a) Calculate the standard deviation of the weekly expenses"
      ],
      "metadata": {
        "id": "H7w1N6zcp443"
      },
      "execution_count": 6,
      "outputs": []
    },
    {
      "cell_type": "code",
      "source": [
        "weekly_expenses = [200, 250, 300, 220, 270, 290, 310]\n",
        "standard_dev = standard_deviation(weekly_expenses)\n",
        "print(f'{standard_dev:.2f}')"
      ],
      "metadata": {
        "colab": {
          "base_uri": "https://localhost:8080/"
        },
        "id": "rfQ3suJGp7zj",
        "outputId": "fa2d6785-f858-47ca-9bfc-181c5bc58e4f"
      },
      "execution_count": 7,
      "outputs": [
        {
          "output_type": "stream",
          "name": "stdout",
          "text": [
            "41.52\n"
          ]
        }
      ]
    },
    {
      "cell_type": "code",
      "source": [
        "#  4. Dataset: Advertising Spending (in $1000s): 10, 20, 15, 25, 30; Sales (in\n",
        "#  $1000s): 100, 150, 120, 180, 200\n",
        "#  Questions: a) Calculate the covariance between advertising spending and sales.\n",
        "#  b) Correlation"
      ],
      "metadata": {
        "id": "z1Ii3oPZqYoa"
      },
      "execution_count": 8,
      "outputs": []
    },
    {
      "cell_type": "code",
      "source": [
        "spending = [10, 20, 15, 25, 30]\n",
        "sales = [100, 150, 120, 180, 200]\n",
        "\n",
        "# covariance = (sum of all (x_i - x_mean) * (y_i - y_mean))/(n - 1)\n",
        "# correlation = (covariance(x,y)) / (std_x * std_y)\n",
        "\n",
        "def covariance(list1, list2):\n",
        "  mean_list1 = mean(list1)\n",
        "  mean_list2 = mean(list2)\n",
        "  n = len(list1)\n",
        "\n",
        "  sum_of_product_of_differences = 0\n",
        "  for x in range(n):\n",
        "    product_of_differnce = (list1[x] - mean_list1) * (list2[x] - mean_list2)\n",
        "    sum_of_product_of_differences += product_of_differnce\n",
        "\n",
        "  covariance = sum_of_product_of_differences / (n-1)\n",
        "  return covariance\n",
        "\n",
        "covar = covariance(spending, sales)\n",
        "\n",
        "std_spending = standard_deviation(spending)\n",
        "std_sales = standard_deviation(sales)\n",
        "\n",
        "correlation = covar / (std_spending * std_sales)\n",
        "print(f'Covariance: {covariance(spending, sales)}')\n",
        "print(f'Correlation: {correlation}')\n",
        "\n",
        "print(st.covariance(spending, sales))\n",
        "print(st.correlation(spending, sales))"
      ],
      "metadata": {
        "colab": {
          "base_uri": "https://localhost:8080/"
        },
        "id": "PfpBjerdq9VV",
        "outputId": "c8a02ff3-3407-41d8-9bc1-2896bdc509af"
      },
      "execution_count": 9,
      "outputs": [
        {
          "output_type": "stream",
          "name": "stdout",
          "text": [
            "Covariance: 325.0\n",
            "Correlation: 0.9970544855015816\n",
            "325.0\n",
            "0.9970544855015816\n"
          ]
        }
      ]
    },
    {
      "cell_type": "code",
      "source": [
        "a = [1,2,3,4,5]\n",
        "b = [5,6,7,8,9]\n",
        "for i,j in zip(a,b):\n",
        "  print(i+j)"
      ],
      "metadata": {
        "colab": {
          "base_uri": "https://localhost:8080/"
        },
        "id": "5h2T4vVP2AXM",
        "outputId": "2ebdc671-061d-456f-dd3e-81d2cc03fe66"
      },
      "execution_count": 10,
      "outputs": [
        {
          "output_type": "stream",
          "name": "stdout",
          "text": [
            "6\n",
            "8\n",
            "10\n",
            "12\n",
            "14\n"
          ]
        }
      ]
    },
    {
      "cell_type": "code",
      "source": [
        "#  5. Dataset: Study Hours: 2, 4, 6, 8, 10; Exam Scores: 55, 60, 65, 70, 75\n",
        "#  Questions:\n",
        "#  a) Calculate the correlation coefficient between study hours and exam scores.\n",
        "#  b) Interpret the result.\n",
        "#  c) Quartiles and IQR"
      ],
      "metadata": {
        "id": "Sr_owaIj6Y-h"
      },
      "execution_count": 11,
      "outputs": []
    },
    {
      "cell_type": "code",
      "source": [
        "study_hours = [2, 4, 6, 8, 10]\n",
        "exam_scores = [55, 60, 65, 70, 75]\n",
        "\n",
        "covar_study_scores = covariance(study_hours, exam_scores)\n",
        "std_study_hrs = standard_deviation(study_hours)\n",
        "std_exam_scrs = standard_deviation(exam_scores)\n",
        "correl = covar_study_scores/(std_study_hrs * std_exam_scrs)\n",
        "\n",
        "print(f'Correlation: {correl}\\n')\n",
        "print('A correlation of 1.0 indicates a perfect positive linear relationship between the two variables')\n",
        "print('This means that for every increase in study_hours, there is a perfectly proportional increase in exam_scores.\\n')\n",
        "\n",
        "def quartiles(lst):\n",
        "  lst.sort()\n",
        "  fq = 0.25\n",
        "  sq = 0.5\n",
        "  tq = 0.75\n",
        "  lst_length = len(lst)\n",
        "\n",
        "  q1_ind = int(lst_length * fq)\n",
        "  q2_ind = int(lst_length * sq)\n",
        "  q3_ind = int(lst_length * tq)\n",
        "\n",
        "  return [lst[q1_ind], lst[q2_ind], lst[q3_ind]]\n",
        "\n",
        "quartiles_study_hrs = quartiles(study_hours)\n",
        "quartiles_exam_scores = quartiles(exam_scores)\n",
        "\n",
        "print('Study Hours: \\n')\n",
        "print(f'Q1: {quartiles_study_hrs[0]}, Q2: {quartiles_study_hrs[1]}, Q3: {quartiles_study_hrs[2]}')\n",
        "print(f'IQR: {quartiles_study_hrs[2] - quartiles_study_hrs[0]}\\n')\n",
        "\n",
        "print('Exam Scores: \\n')\n",
        "print(f'Q1: {quartiles_exam_scores[0]}, Q2: {quartiles_exam_scores[1]}, Q3: {quartiles_exam_scores[2]}')\n",
        "print(f'IQR: {quartiles_exam_scores[2] - quartiles_exam_scores[0]}')"
      ],
      "metadata": {
        "colab": {
          "base_uri": "https://localhost:8080/"
        },
        "id": "deL65K1x6ob_",
        "outputId": "2ec5abeb-fc1f-4dff-f112-05aa014b6d6a"
      },
      "execution_count": 12,
      "outputs": [
        {
          "output_type": "stream",
          "name": "stdout",
          "text": [
            "Correlation: 1.0\n",
            "\n",
            "A correlation of 1.0 indicates a perfect positive linear relationship between the two variables\n",
            "This means that for every increase in study_hours, there is a perfectly proportional increase in exam_scores.\n",
            "\n",
            "Study Hours: \n",
            "\n",
            "Q1: 4, Q2: 6, Q3: 8\n",
            "IQR: 4\n",
            "\n",
            "Exam Scores: \n",
            "\n",
            "Q1: 60, Q2: 65, Q3: 70\n",
            "IQR: 10\n"
          ]
        }
      ]
    },
    {
      "cell_type": "code",
      "source": [
        "#  6. Dataset: Monthly savings (in $): 200, 300, 400, 500, 600, 700, 800, 900, 1000, 1100\n",
        "#  Questions:\n",
        "#  a) Calculate the first quartile (Q1) and third quartile (Q3).\n",
        "#  b) Calculate the interquartile range (IQR).\n",
        "#  c) Detecting Outliers"
      ],
      "metadata": {
        "id": "TBGvmJa4IcGn"
      },
      "execution_count": 13,
      "outputs": []
    },
    {
      "cell_type": "code",
      "source": [
        "monthly_savings = [200, 300, 400, 500, 600, 700, 800, 900, 1000, 1100]\n",
        "quartiles_monthly_savings = quartiles(monthly_savings)\n",
        "q1 = quartiles_monthly_savings[0]\n",
        "q3 = quartiles_monthly_savings[2]\n",
        "iqr = q3 - q1\n",
        "lower_bound = q1 - (1.5 * iqr)\n",
        "upper_bound = q3 + (1.5 * iqr)\n",
        "outliers = []\n",
        "\n",
        "for savings in monthly_savings:\n",
        "  if savings < lower_bound or savings > upper_bound:\n",
        "    outliers.append(savings)\n",
        "print(f'Q1: {q1}')\n",
        "print(f'Q2: {q3}')\n",
        "print(f'Outliers: {outliers}')"
      ],
      "metadata": {
        "colab": {
          "base_uri": "https://localhost:8080/"
        },
        "id": "AOD9OdBIIYCY",
        "outputId": "ea45b300-a793-4b8f-b700-639bc3e9c31a"
      },
      "execution_count": 14,
      "outputs": [
        {
          "output_type": "stream",
          "name": "stdout",
          "text": [
            "Q1: 400\n",
            "Q2: 900\n",
            "Outliers: []\n"
          ]
        }
      ]
    },
    {
      "cell_type": "code",
      "source": [
        "#  7. Dataset: Ages of employees: 22, 25, 28, 30, 35, 40, 45, 50, 55, 100\n",
        "#  Questions: a) Identify any outliers using the IQR method"
      ],
      "metadata": {
        "id": "2l5hZXYSKERX"
      },
      "execution_count": 15,
      "outputs": []
    },
    {
      "cell_type": "code",
      "source": [
        "employees_age = [22, 25, 28, 30, 35, 40, 45, 50, 55, 100]\n",
        "quartiles_employees_age = quartiles(employees_age)\n",
        "q1_emp, q3_emp = quartiles_employees_age[0], quartiles_employees_age[2]\n",
        "iqr_employees_age = q3_emp - q1_emp\n",
        "lb = q1_emp - (1.5 * iqr_employees_age)\n",
        "ub = q3_emp + (1.5 * iqr_employees_age)\n",
        "outliers_employees = []\n",
        "\n",
        "for age in employees_age:\n",
        "  if age < lb or age > ub:\n",
        "    outliers_employees.append(age)\n",
        "print(f'Q1: {q1}')\n",
        "print(f'Q2: {q3}')\n",
        "print(f'Outliers: {outliers_employees}')"
      ],
      "metadata": {
        "colab": {
          "base_uri": "https://localhost:8080/"
        },
        "id": "1-azRwHIKH8M",
        "outputId": "0e51b7b1-c737-4ff9-e11b-5b9f245f0585"
      },
      "execution_count": 16,
      "outputs": [
        {
          "output_type": "stream",
          "name": "stdout",
          "text": [
            "Q1: 400\n",
            "Q2: 900\n",
            "Outliers: [100]\n"
          ]
        }
      ]
    },
    {
      "cell_type": "code",
      "source": [
        "#  8. Dataset: Observed frequencies of customer preferences for three products:\n",
        "#  Product A: 50, 55, 60\n",
        "#  Product B: 30, 25, 35\n",
        "#  Product C: 20, 20, 25\n",
        "#  Questions:\n",
        "#  a) Perform a chi-square test to determine if there is a significant\n",
        "#  difference in customer preferences among the three products.\n",
        "#  b) Hypothesis Testing"
      ],
      "metadata": {
        "id": "KWL9Br3aLqgD"
      },
      "execution_count": 17,
      "outputs": []
    },
    {
      "cell_type": "code",
      "source": [
        "from scipy import stats\n",
        "\n",
        "prod_a = [50, 55, 60]\n",
        "prod_b = [30, 25, 35]\n",
        "prod_c = [20, 20, 25]\n",
        "\n",
        "chi2_stat, p_value, dof, expected = stats.chi2_contingency([prod_a, prod_b, prod_c])\n",
        "print(f\"Chi-square statistic: {chi2_stat:.3f}\")\n",
        "print(f\"P-value: {p_value:.3f}\")\n",
        "print(f\"Degrees of freedom: {dof}\")\n",
        "print(\"Expected frequencies table:\")"
      ],
      "metadata": {
        "colab": {
          "base_uri": "https://localhost:8080/"
        },
        "id": "3i1gX5C6V2op",
        "outputId": "c4a3d081-16e9-410b-c498-0ad7f8a06134"
      },
      "execution_count": 18,
      "outputs": [
        {
          "output_type": "stream",
          "name": "stdout",
          "text": [
            "Chi-square statistic: 0.877\n",
            "P-value: 0.928\n",
            "Degrees of freedom: 4\n",
            "Expected frequencies table:\n"
          ]
        }
      ]
    },
    {
      "cell_type": "code",
      "source": [
        "if p_value < 0.05:\n",
        "  print('There is significant statistical evidence, Null hypothesis is rejected')\n",
        "else:\n",
        "  print('There is no significant statistical evidence, We fail to reject null hypothesis')"
      ],
      "metadata": {
        "colab": {
          "base_uri": "https://localhost:8080/"
        },
        "id": "gPrDLFAJXwIk",
        "outputId": "6bfe6cab-8fae-425c-fd30-5aa303f60519"
      },
      "execution_count": 19,
      "outputs": [
        {
          "output_type": "stream",
          "name": "stdout",
          "text": [
            "There is no significant statistical evidence, We fail to reject null hypothesis\n"
          ]
        }
      ]
    },
    {
      "cell_type": "code",
      "source": [
        "# 9. Dataset: Sample weights (in kg) of a new diet program: 70, 68, 72, 71, 69, 73, 72, 74, 70, 71\n",
        "#  Questions:\n",
        "#  a) Test the hypothesis that the mean weight after the\n",
        "#  diet program is equal to 70 kg at a 5% significance level.\n",
        "#  b) Z-Scores"
      ],
      "metadata": {
        "id": "BevLGJV7YY-W"
      },
      "execution_count": 20,
      "outputs": []
    },
    {
      "cell_type": "code",
      "source": [
        "sample_weights = [70, 68, 72, 71, 69, 73, 72, 74, 70, 71]\n",
        "\n",
        "t_statistic, p_value = stats.ttest_1samp(sample_weights, 70)\n",
        "confidence_level = 0.05\n",
        "\n",
        "if p_value < confidence_level:\n",
        "  print('Conclusion: The result is statistically significant. We reject the null hypothesis')\n",
        "  print('There is strong evidence that the mean weight is different from the hypothesized mean 70 kg.\\n')\n",
        "else:\n",
        "  print('Conclusion: The result is not statistically significant. We fail to reject the null hypothesis')\n",
        "  print('There is not enough evidence to suggest that the mean weight is different from the hypothesized mean 70 kg.\\n')\n",
        "\n",
        "zscores = stats.zscore(sample_weights, ddof=1)\n",
        "print('Sample weights and corresponding Z-scores\\n')\n",
        "for i in range(len(sample_weights)):\n",
        "  print(f'{sample_weights[i]} - {zscores[i]:.2f}')\n"
      ],
      "metadata": {
        "colab": {
          "base_uri": "https://localhost:8080/"
        },
        "id": "IfpvWISFBw6t",
        "outputId": "86ae3d01-e069-4090-9e1d-645da27449e1"
      },
      "execution_count": 21,
      "outputs": [
        {
          "output_type": "stream",
          "name": "stdout",
          "text": [
            "Conclusion: The result is not statistically significant. We fail to reject the null hypothesis\n",
            "There is not enough evidence to suggest that the mean weight is different from the hypothesized mean 70 kg.\n",
            "\n",
            "Sample weights and corresponding Z-scores\n",
            "\n",
            "70 - -0.55\n",
            "68 - -1.64\n",
            "72 - 0.55\n",
            "71 - 0.00\n",
            "69 - -1.10\n",
            "73 - 1.10\n",
            "72 - 0.55\n",
            "74 - 1.64\n",
            "70 - -0.55\n",
            "71 - 0.00\n"
          ]
        }
      ]
    },
    {
      "cell_type": "code",
      "source": [
        "# 10. Dataset: Annual salaries of employees (in $1000s): 40, 42, 45, 47, 50, 52, 55, 57, 60, 62\n",
        "# Questions:\n",
        "#  a) Calculate the z-scores for each salary.\n",
        "#  b) Interpret the z-scores.\n",
        "#  c) Normal Distribution"
      ],
      "metadata": {
        "id": "oVE8AngSVPjJ"
      },
      "execution_count": 22,
      "outputs": []
    },
    {
      "cell_type": "code",
      "source": [
        "salaries = [40, 42, 45, 47, 50, 52, 55, 57, 60, 62]\n",
        "salary_zscores = stats.zscore(salaries, ddof=1)\n",
        "print('Salaries and corresponding Z-scores\\n')\n",
        "for i in range(len(salaries)):\n",
        "  # print(f'{salaries[i]} - {salary_zscores[i]:.2f}')\n",
        "    print(f'The salary {salaries[i]} has a z-score of {salary_zscores[i]:.2f}')\n",
        "    if zscores[i] < 0:\n",
        "     print(f'The salary is {abs(salary_zscores[i]):.2f} standard deviations below the mean salary')\n",
        "    else:\n",
        "      print(f'The salary is {salary_zscores[i]:.2f} standard deviations above the mean salary')"
      ],
      "metadata": {
        "colab": {
          "base_uri": "https://localhost:8080/"
        },
        "id": "jfKUUzuvVU16",
        "outputId": "086ee167-dccb-41e3-8355-0822f574df00"
      },
      "execution_count": 23,
      "outputs": [
        {
          "output_type": "stream",
          "name": "stdout",
          "text": [
            "Salaries and corresponding Z-scores\n",
            "\n",
            "The salary 40 has a z-score of -1.46\n",
            "The salary is 1.46 standard deviations below the mean salary\n",
            "The salary 42 has a z-score of -1.20\n",
            "The salary is 1.20 standard deviations below the mean salary\n",
            "The salary 45 has a z-score of -0.80\n",
            "The salary is -0.80 standard deviations above the mean salary\n",
            "The salary 47 has a z-score of -0.53\n",
            "The salary is -0.53 standard deviations above the mean salary\n",
            "The salary 50 has a z-score of -0.13\n",
            "The salary is 0.13 standard deviations below the mean salary\n",
            "The salary 52 has a z-score of 0.13\n",
            "The salary is 0.13 standard deviations above the mean salary\n",
            "The salary 55 has a z-score of 0.53\n",
            "The salary is 0.53 standard deviations above the mean salary\n",
            "The salary 57 has a z-score of 0.80\n",
            "The salary is 0.80 standard deviations above the mean salary\n",
            "The salary 60 has a z-score of 1.20\n",
            "The salary is 1.20 standard deviations below the mean salary\n",
            "The salary 62 has a z-score of 1.46\n",
            "The salary is 1.46 standard deviations above the mean salary\n"
          ]
        }
      ]
    }
  ]
}