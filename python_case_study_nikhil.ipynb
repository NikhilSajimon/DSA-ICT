{
  "nbformat": 4,
  "nbformat_minor": 0,
  "metadata": {
    "colab": {
      "provenance": [],
      "include_colab_link": true
    },
    "kernelspec": {
      "name": "python3",
      "display_name": "Python 3"
    },
    "language_info": {
      "name": "python"
    }
  },
  "cells": [
    {
      "cell_type": "markdown",
      "metadata": {
        "id": "view-in-github",
        "colab_type": "text"
      },
      "source": [
        "<a href=\"https://colab.research.google.com/github/NikhilSajimon/DSA-ICT/blob/main/python_case_study_nikhil.ipynb\" target=\"_parent\"><img src=\"https://colab.research.google.com/assets/colab-badge.svg\" alt=\"Open In Colab\"/></a>"
      ]
    },
    {
      "cell_type": "markdown",
      "source": [
        "# Answer the following questions using only builtin Python datatypes and functions. Do not use Numpy or Scipy (i.e. No library imports allowed)"
      ],
      "metadata": {
        "id": "zVV_KMSIUG-A"
      }
    },
    {
      "cell_type": "markdown",
      "source": [
        "# Q1. Write a function that return the range (maximum and minimun) of a given list of numbers"
      ],
      "metadata": {
        "id": "uZnK7VgWV5SI"
      }
    },
    {
      "cell_type": "code",
      "source": [
        "def range_max_min(lst):\n",
        "  min = lst[0]\n",
        "  max  = lst[0]\n",
        "\n",
        "  for i in lst:\n",
        "    if i > max:\n",
        "      max = i\n",
        "    if i < min:\n",
        "      min = i\n",
        "  return min, max\n",
        "\n",
        "\n",
        "numbers = [12, 13, 15, 17, 11, 22, 19, 23, 28, 15, 14, 19]\n",
        "print(range_max_min(numbers))"
      ],
      "metadata": {
        "id": "vuAbJQcOWAM7",
        "colab": {
          "base_uri": "https://localhost:8080/"
        },
        "outputId": "d62e93d5-7f3c-41b7-9fe3-48f6101dfc5f"
      },
      "execution_count": 6,
      "outputs": [
        {
          "output_type": "stream",
          "name": "stdout",
          "text": [
            "(11, 28)\n"
          ]
        }
      ]
    },
    {
      "cell_type": "markdown",
      "source": [
        "## Q2. Write function that returns mean value of a list of numbers"
      ],
      "metadata": {
        "id": "Y5_v5a8_U1O-"
      }
    },
    {
      "cell_type": "code",
      "source": [
        "def mean(lst):\n",
        "  return sum(lst) / len(lst)\n",
        "\n",
        "nums = [15, 8, 22, 10, 8, 12, 16, 19, 10, 5, 14, 25, 10, 18, 7, 11, 21, 13, 2, 14]\n",
        "print(mean(nums))"
      ],
      "metadata": {
        "id": "RajjEyacU7Sc",
        "colab": {
          "base_uri": "https://localhost:8080/"
        },
        "outputId": "ecb3d42d-8a62-4355-e02a-7ba356ec1f2c"
      },
      "execution_count": 7,
      "outputs": [
        {
          "output_type": "stream",
          "name": "stdout",
          "text": [
            "13.0\n"
          ]
        }
      ]
    },
    {
      "cell_type": "markdown",
      "source": [
        "# Q3. Write a function that returns the median value of a list of numbers"
      ],
      "metadata": {
        "id": "OpeRxoEoVTIP"
      }
    },
    {
      "cell_type": "code",
      "source": [
        "def median(lst):\n",
        "  lst = sorted(lst)\n",
        "  mid = len(lst) // 2\n",
        "  if len(lst) % 2 == 0:\n",
        "    return (lst[mid - 1] + lst[mid]) / 2\n",
        "  else:\n",
        "    return lst[mid]\n",
        "\n",
        "nums = [15, 8, 22, 10, 8, 12, 16, 19, 10, 5, 14, 25, 10, 18, 7, 11, 21, 13, 2, 14]\n",
        "print(sorted(nums))\n",
        "median(nums)"
      ],
      "metadata": {
        "id": "u1CUy0UOVaQi",
        "colab": {
          "base_uri": "https://localhost:8080/"
        },
        "outputId": "cdc83f9d-a880-4435-8f31-aaa768fcaf16"
      },
      "execution_count": 11,
      "outputs": [
        {
          "output_type": "stream",
          "name": "stdout",
          "text": [
            "[2, 5, 7, 8, 8, 10, 10, 10, 11, 12, 13, 14, 14, 15, 16, 18, 19, 21, 22, 25]\n"
          ]
        },
        {
          "output_type": "execute_result",
          "data": {
            "text/plain": [
              "12.5"
            ]
          },
          "metadata": {},
          "execution_count": 11
        }
      ]
    },
    {
      "cell_type": "markdown",
      "source": [
        "## Q4. Write a function to return the mod of a list of numbers, if no mod exists, it should return None. If more than one mod exist, return the mod values as list"
      ],
      "metadata": {
        "id": "2EMOG7AZSqVn"
      }
    },
    {
      "cell_type": "code",
      "execution_count": 30,
      "metadata": {
        "id": "qnMm2dhhSk3-",
        "colab": {
          "base_uri": "https://localhost:8080/"
        },
        "outputId": "b1f29bf8-9d36-4306-f74a-541890130c1c"
      },
      "outputs": [
        {
          "output_type": "stream",
          "name": "stdout",
          "text": [
            "[8, 10]\n",
            "9\n",
            "None\n"
          ]
        }
      ],
      "source": [
        "def mode(lst):\n",
        "  elements = set(lst)\n",
        "  mode_list = {}\n",
        "\n",
        "  for num in elements:\n",
        "    counts = lst.count(num)\n",
        "    mode_list[num] = counts\n",
        "\n",
        "\n",
        "  mod_count = list(mode_list.values())[1]\n",
        "\n",
        "  for num, count in mode_list.items():\n",
        "    if count > mod_count:\n",
        "      mod_count = count\n",
        "\n",
        "  multiple_mods = []\n",
        "\n",
        "  for num, count in mode_list.items():\n",
        "    if count == mod_count and count != 1:\n",
        "      multiple_mods.append(num)\n",
        "\n",
        "  if len(multiple_mods) == 1:\n",
        "    return multiple_mods[0]\n",
        "\n",
        "  if len(multiple_mods) == 0:\n",
        "    return None\n",
        "\n",
        "  return multiple_mods\n",
        "\n",
        "nums = [15, 8, 22, 10, 8, 12, 16, 19, 10, 5, 8, 14, 25, 10, 18, 7, 11, 21, 13, 2, 14]\n",
        "nums_2 = [1, 6, 8, 7, 9, 9, 5, 3]\n",
        "nums_3 = [1, 2, 3, 4, 5]\n",
        "print(mode(nums))\n",
        "print(mode(nums_2))\n",
        "print(mode(nums_3))"
      ]
    },
    {
      "cell_type": "markdown",
      "source": [
        "## Q5. Write function to compute a given percentile value (e.g. 90th percentile) of a list of numbers"
      ],
      "metadata": {
        "id": "LcqWwqtgTCiL"
      }
    },
    {
      "cell_type": "code",
      "source": [
        "nums = [15, 8, 22, 10, 12, 16, 19, 10, 5, 8, 14, 25, 10, 18, 7, 11, 21, 13, 2, 14, 12]\n",
        "\n",
        "def percentile_value(lst, percentage):\n",
        "  nums.sort()\n",
        "  print(nums)\n",
        "  percentage /= 100\n",
        "  lst_length = len(lst)\n",
        "  percentile_index = int(lst_length * percentage)\n",
        "  # print(percentile_index)\n",
        "  return nums[percentile_index]\n",
        "\n",
        "\n",
        "percentile_value(nums, 90)\n"
      ],
      "metadata": {
        "id": "Sn307h0TTb2b",
        "colab": {
          "base_uri": "https://localhost:8080/"
        },
        "outputId": "dbc4b1b1-64ed-4017-c114-ed2fe332ee1e"
      },
      "execution_count": 52,
      "outputs": [
        {
          "output_type": "stream",
          "name": "stdout",
          "text": [
            "[2, 5, 7, 8, 8, 10, 10, 10, 11, 12, 12, 13, 14, 14, 15, 16, 18, 19, 21, 22, 25]\n"
          ]
        },
        {
          "output_type": "execute_result",
          "data": {
            "text/plain": [
              "21"
            ]
          },
          "metadata": {},
          "execution_count": 52
        }
      ]
    },
    {
      "cell_type": "markdown",
      "source": [
        "# Q6. Write a function that returns the lower bound of a list of numbers"
      ],
      "metadata": {
        "id": "N-TYHkDcWOfS"
      }
    },
    {
      "cell_type": "code",
      "source": [
        "nums = [15, 8, 22, 10, 12, 16, 19, 10, 5, 8, 14, 25, 10, 18, 7, 11, 21, 13, 2, 14, 12]\n",
        "\n",
        "def lower_bound(lst):\n",
        "\n",
        "  def quartiles(lst):\n",
        "    lst.sort()\n",
        "    fq = 0.25\n",
        "    sq = 0.5\n",
        "    tq = 0.75\n",
        "    lst_length = len(lst)\n",
        "\n",
        "    q1_ind = int(lst_length * fq)\n",
        "    q2_ind = int(lst_length * sq)\n",
        "    q3_ind = int(lst_length * tq)\n",
        "\n",
        "    return [lst[q1_ind], lst[q2_ind], lst[q3_ind]]\n",
        "\n",
        "\n",
        "  q1, q2, q3 = quartiles(lst)[0], quartiles(lst)[1], quartiles(lst)[2]\n",
        "  iqr = q3 - q2\n",
        "  l_b = q1 - (1.5 * iqr)\n",
        "  return l_b\n",
        "\n",
        "lower_bound(nums)"
      ],
      "metadata": {
        "id": "Y-RKPdKuW5nx",
        "colab": {
          "base_uri": "https://localhost:8080/"
        },
        "outputId": "cf6a85bf-5136-4381-84a3-4ef4e10c8bd6"
      },
      "execution_count": 62,
      "outputs": [
        {
          "output_type": "execute_result",
          "data": {
            "text/plain": [
              "4.0"
            ]
          },
          "metadata": {},
          "execution_count": 62
        }
      ]
    },
    {
      "cell_type": "markdown",
      "source": [
        "## Q7. Write function to return any outliers from a given list of numbers, if no outliers present it should return None"
      ],
      "metadata": {
        "id": "5aHfaI_jThpX"
      }
    },
    {
      "cell_type": "code",
      "source": [
        "def outliers(lst):\n",
        ""
      ],
      "metadata": {
        "id": "gG6-qzT7T0Si"
      },
      "execution_count": null,
      "outputs": []
    },
    {
      "cell_type": "markdown",
      "source": [
        "##Q8. Write a function to return standard deviation of a list of numbers"
      ],
      "metadata": {
        "id": "jI9t-tcDT5EK"
      }
    },
    {
      "cell_type": "code",
      "source": [],
      "metadata": {
        "id": "MMU_cMlLUFxJ"
      },
      "execution_count": null,
      "outputs": []
    },
    {
      "cell_type": "markdown",
      "source": [
        "## Q9. Write function to compute and return Z-score values of a list of numbers"
      ],
      "metadata": {
        "id": "LufmQDJPURkM"
      }
    },
    {
      "cell_type": "code",
      "source": [],
      "metadata": {
        "id": "ml2qpSpFUYxV"
      },
      "execution_count": null,
      "outputs": []
    },
    {
      "cell_type": "markdown",
      "source": [
        "## Q10. Write a function to compute and return the Pearson correlation coefficient value of two list of numbers"
      ],
      "metadata": {
        "id": "YQSNHIfxUb6s"
      }
    },
    {
      "cell_type": "code",
      "source": [],
      "metadata": {
        "id": "1YGqr3T6Uk6H"
      },
      "execution_count": null,
      "outputs": []
    }
  ]
}