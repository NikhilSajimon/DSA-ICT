{
  "nbformat": 4,
  "nbformat_minor": 0,
  "metadata": {
    "colab": {
      "provenance": [],
      "include_colab_link": true
    },
    "kernelspec": {
      "name": "python3",
      "display_name": "Python 3"
    },
    "language_info": {
      "name": "python"
    }
  },
  "cells": [
    {
      "cell_type": "markdown",
      "metadata": {
        "id": "view-in-github",
        "colab_type": "text"
      },
      "source": [
        "<a href=\"https://colab.research.google.com/github/NikhilSajimon/DSA-ICT/blob/main/python_case_study_nikhil_saji.ipynb\" target=\"_parent\"><img src=\"https://colab.research.google.com/assets/colab-badge.svg\" alt=\"Open In Colab\"/></a>"
      ]
    },
    {
      "cell_type": "markdown",
      "source": [
        "# Answer the following questions using only builtin Python datatypes and functions. Do not use Numpy or Scipy (i.e. No library imports allowed)"
      ],
      "metadata": {
        "id": "zVV_KMSIUG-A"
      }
    },
    {
      "cell_type": "markdown",
      "source": [
        "# Q1. Write a function that return the range (maximum and minimun) of a given list of numbers"
      ],
      "metadata": {
        "id": "uZnK7VgWV5SI"
      }
    },
    {
      "cell_type": "code",
      "source": [
        "def range_max_min(lst):\n",
        "  min = lst[0]\n",
        "  max  = lst[0]\n",
        "\n",
        "  for i in lst:\n",
        "    if i > max:\n",
        "      max = i\n",
        "    if i < min:\n",
        "      min = i\n",
        "  return min, max\n",
        "\n",
        "\n",
        "numbers = [12, 13, 15, 17, 11, 22, 19, 23, 28, 15, 14, 19]\n",
        "print(range_max_min(numbers))"
      ],
      "metadata": {
        "id": "vuAbJQcOWAM7",
        "colab": {
          "base_uri": "https://localhost:8080/"
        },
        "outputId": "d62e93d5-7f3c-41b7-9fe3-48f6101dfc5f"
      },
      "execution_count": 6,
      "outputs": [
        {
          "output_type": "stream",
          "name": "stdout",
          "text": [
            "(11, 28)\n"
          ]
        }
      ]
    },
    {
      "cell_type": "markdown",
      "source": [
        "## Q2. Write function that returns mean value of a list of numbers"
      ],
      "metadata": {
        "id": "Y5_v5a8_U1O-"
      }
    },
    {
      "cell_type": "code",
      "source": [
        "def mean(lst):\n",
        "  return sum(lst) / len(lst)\n",
        "\n",
        "nums = [15, 8, 22, 10, 8, 12, 16, 19, 10, 5, 14, 25, 10, 18, 7, 11, 21, 13, 2, 14]\n",
        "print(mean(nums))"
      ],
      "metadata": {
        "id": "RajjEyacU7Sc",
        "colab": {
          "base_uri": "https://localhost:8080/"
        },
        "outputId": "ecb3d42d-8a62-4355-e02a-7ba356ec1f2c"
      },
      "execution_count": 7,
      "outputs": [
        {
          "output_type": "stream",
          "name": "stdout",
          "text": [
            "13.0\n"
          ]
        }
      ]
    },
    {
      "cell_type": "markdown",
      "source": [
        "# Q3. Write a function that returns the median value of a list of numbers"
      ],
      "metadata": {
        "id": "OpeRxoEoVTIP"
      }
    },
    {
      "cell_type": "code",
      "source": [
        "def median(lst):\n",
        "  lst = sorted(lst)\n",
        "  mid = len(lst) // 2\n",
        "  if len(lst) % 2 == 0:\n",
        "    return (lst[mid - 1] + lst[mid]) / 2\n",
        "  else:\n",
        "    return lst[mid]\n",
        "\n",
        "nums = [15, 8, 22, 10, 8, 12, 16, 19, 10, 5, 14, 25, 10, 18, 7, 11, 21, 13, 2, 14]\n",
        "print(sorted(nums))\n",
        "median(nums)"
      ],
      "metadata": {
        "id": "u1CUy0UOVaQi",
        "colab": {
          "base_uri": "https://localhost:8080/"
        },
        "outputId": "cdc83f9d-a880-4435-8f31-aaa768fcaf16"
      },
      "execution_count": 11,
      "outputs": [
        {
          "output_type": "stream",
          "name": "stdout",
          "text": [
            "[2, 5, 7, 8, 8, 10, 10, 10, 11, 12, 13, 14, 14, 15, 16, 18, 19, 21, 22, 25]\n"
          ]
        },
        {
          "output_type": "execute_result",
          "data": {
            "text/plain": [
              "12.5"
            ]
          },
          "metadata": {},
          "execution_count": 11
        }
      ]
    },
    {
      "cell_type": "markdown",
      "source": [
        "## Q4. Write a function to return the mod of a list of numbers, if no mod exists, it should return None. If more than one mod exist, return the mod values as list"
      ],
      "metadata": {
        "id": "2EMOG7AZSqVn"
      }
    },
    {
      "cell_type": "code",
      "execution_count": 30,
      "metadata": {
        "id": "qnMm2dhhSk3-",
        "colab": {
          "base_uri": "https://localhost:8080/"
        },
        "outputId": "b1f29bf8-9d36-4306-f74a-541890130c1c"
      },
      "outputs": [
        {
          "output_type": "stream",
          "name": "stdout",
          "text": [
            "[8, 10]\n",
            "9\n",
            "None\n"
          ]
        }
      ],
      "source": [
        "def mode(lst):\n",
        "  elements = set(lst)\n",
        "  mode_list = {}\n",
        "\n",
        "  for num in elements:\n",
        "    counts = lst.count(num)\n",
        "    mode_list[num] = counts\n",
        "\n",
        "\n",
        "  mod_count = list(mode_list.values())[1]\n",
        "\n",
        "  for num, count in mode_list.items():\n",
        "    if count > mod_count:\n",
        "      mod_count = count\n",
        "\n",
        "  multiple_mods = []\n",
        "\n",
        "  for num, count in mode_list.items():\n",
        "    if count == mod_count and count != 1:\n",
        "      multiple_mods.append(num)\n",
        "\n",
        "  if len(multiple_mods) == 1:\n",
        "    return multiple_mods[0]\n",
        "\n",
        "  if len(multiple_mods) == 0:\n",
        "    return None\n",
        "\n",
        "  return multiple_mods\n",
        "\n",
        "nums = [15, 8, 22, 10, 8, 12, 16, 19, 10, 5, 8, 14, 25, 10, 18, 7, 11, 21, 13, 2, 14]\n",
        "nums_2 = [1, 6, 8, 7, 9, 9, 5, 3]\n",
        "nums_3 = [1, 2, 3, 4, 5]\n",
        "print(mode(nums))\n",
        "print(mode(nums_2))\n",
        "print(mode(nums_3))"
      ]
    },
    {
      "cell_type": "markdown",
      "source": [
        "## Q5. Write function to compute a given percentile value (e.g. 90th percentile) of a list of numbers"
      ],
      "metadata": {
        "id": "LcqWwqtgTCiL"
      }
    },
    {
      "cell_type": "code",
      "source": [
        "nums = [15, 8, 22, 10, 12, 16, 19, 10, 5, 8, 14, 25, 10, 18, 7, 11, 21, 13, 2, 14, 12]\n",
        "\n",
        "def percentile_value(lst, percentage):\n",
        "  nums.sort()\n",
        "  print(nums)\n",
        "  percentage /= 100\n",
        "  lst_length = len(lst)\n",
        "  percentile_index = int(lst_length * percentage)\n",
        "  # print(percentile_index)\n",
        "  return nums[percentile_index]\n",
        "\n",
        "\n",
        "percentile_value(nums, 90)\n"
      ],
      "metadata": {
        "id": "Sn307h0TTb2b",
        "colab": {
          "base_uri": "https://localhost:8080/"
        },
        "outputId": "dbc4b1b1-64ed-4017-c114-ed2fe332ee1e"
      },
      "execution_count": 52,
      "outputs": [
        {
          "output_type": "stream",
          "name": "stdout",
          "text": [
            "[2, 5, 7, 8, 8, 10, 10, 10, 11, 12, 12, 13, 14, 14, 15, 16, 18, 19, 21, 22, 25]\n"
          ]
        },
        {
          "output_type": "execute_result",
          "data": {
            "text/plain": [
              "21"
            ]
          },
          "metadata": {},
          "execution_count": 52
        }
      ]
    },
    {
      "cell_type": "markdown",
      "source": [
        "# Q6. Write a function that returns the lower bound of a list of numbers"
      ],
      "metadata": {
        "id": "N-TYHkDcWOfS"
      }
    },
    {
      "cell_type": "code",
      "source": [
        "nums = [15, 8, 22, 10, 12, 16, 19, 10, 5, 8, 14, 25, 10, 18, 7, 11, 21, 13, 2, 14, 12]\n",
        "\n",
        "def lower_bound(lst):\n",
        "\n",
        "  def quartiles(lst):\n",
        "    lst.sort()\n",
        "    fq = 0.25\n",
        "    sq = 0.5\n",
        "    tq = 0.75\n",
        "    lst_length = len(lst)\n",
        "\n",
        "    q1_ind = int(lst_length * fq)\n",
        "    q2_ind = int(lst_length * sq)\n",
        "    q3_ind = int(lst_length * tq)\n",
        "\n",
        "    return [lst[q1_ind], lst[q2_ind], lst[q3_ind]]\n",
        "\n",
        "\n",
        "  q1, q2, q3 = quartiles(lst)[0], quartiles(lst)[1], quartiles(lst)[2]\n",
        "  iqr = q3 - q2\n",
        "  l_b = q1 - (1.5 * iqr)\n",
        "  return l_b\n",
        "\n",
        "lower_bound(nums)"
      ],
      "metadata": {
        "id": "Y-RKPdKuW5nx",
        "colab": {
          "base_uri": "https://localhost:8080/"
        },
        "outputId": "cf6a85bf-5136-4381-84a3-4ef4e10c8bd6"
      },
      "execution_count": 62,
      "outputs": [
        {
          "output_type": "execute_result",
          "data": {
            "text/plain": [
              "4.0"
            ]
          },
          "metadata": {},
          "execution_count": 62
        }
      ]
    },
    {
      "cell_type": "markdown",
      "source": [
        "## Q7. Write function to return any outliers from a given list of numbers, if no outliers present it should return None"
      ],
      "metadata": {
        "id": "5aHfaI_jThpX"
      }
    },
    {
      "cell_type": "code",
      "source": [
        "nums = [15, 8, 22, 10, 12, 16, 19, 10, 5, 8, 14, 25, 10, 18, 7, 11, 21, 13, 2, 14, 12]\n",
        "\n",
        "def outliers(lst):\n",
        "  q1, q3 = quartiles(lst)[0], quartiles(lst)[2]\n",
        "  iqr = q3 - q2\n",
        "  l_b = q1 - (1.5 * iqr)\n",
        "  u_b = q3 + (1.5 * iqr)\n",
        "  # print(l_b)\n",
        "  # print(u_b)\n",
        "\n",
        "  outlier_list = []\n",
        "  for element in lst:\n",
        "    if element < l_b or element > u_b:\n",
        "      outlier_list.append(element)\n",
        "\n",
        "  if len(outlier_list) == 0:\n",
        "    return None\n",
        "\n",
        "  return outlier_list\n",
        "\n",
        "\n",
        "outliers(nums)"
      ],
      "metadata": {
        "id": "gG6-qzT7T0Si",
        "colab": {
          "base_uri": "https://localhost:8080/"
        },
        "outputId": "5a86c289-b7d6-4346-afb1-e278e84064ed"
      },
      "execution_count": 74,
      "outputs": [
        {
          "output_type": "execute_result",
          "data": {
            "text/plain": [
              "[2, 25]"
            ]
          },
          "metadata": {},
          "execution_count": 74
        }
      ]
    },
    {
      "cell_type": "markdown",
      "source": [
        "##Q8. Write a function to return standard deviation of a list of numbers"
      ],
      "metadata": {
        "id": "jI9t-tcDT5EK"
      }
    },
    {
      "cell_type": "code",
      "source": [
        "def stdeviation(lst):\n",
        "  mean_val = mean(lst)\n",
        "\n",
        "  xi_minus_mean_list = [xi - mean_val for xi in lst]\n",
        "  xi_minus_mean_squared_list = [num ** 2 for num in xi_minus_mean_list]\n",
        "  variance = sum(xi_minus_mean_squared_list) / len(lst)\n",
        "  standard_deviation = variance ** 0.5\n",
        "\n",
        "  return standard_deviation\n",
        "\n",
        "\n",
        "nums = [15, 8, 22, 10, 12, 16, 19, 10, 5, 8, 14, 25, 10, 18, 7, 11, 21, 13, 2, 14, 12]\n",
        "stdeviation(nums)"
      ],
      "metadata": {
        "id": "MMU_cMlLUFxJ",
        "colab": {
          "base_uri": "https://localhost:8080/"
        },
        "outputId": "8c5ee323-40e7-4368-a3e1-6cd8117a90c3"
      },
      "execution_count": 70,
      "outputs": [
        {
          "output_type": "execute_result",
          "data": {
            "text/plain": [
              "5.644012339058687"
            ]
          },
          "metadata": {},
          "execution_count": 70
        }
      ]
    },
    {
      "cell_type": "markdown",
      "source": [
        "## Q9. Write function to compute and return Z-score values of a list of numbers"
      ],
      "metadata": {
        "id": "LufmQDJPURkM"
      }
    },
    {
      "cell_type": "code",
      "source": [
        "def z_scores(lst):\n",
        "  mean_val = mean(lst)\n",
        "  standard_deviation = stdeviation(lst)\n",
        "  z_score_list = []\n",
        "\n",
        "  for xi in lst:\n",
        "    z_score = (xi - mean_val) / standard_deviation\n",
        "    z_score_list.append(z_score)\n",
        "\n",
        "  return z_score_list\n",
        "\n",
        "nums = [15, 8, 22, 10, 12, 16, 19, 10, 5, 8, 14, 25, 10, 18, 7, 11, 21, 13, 2, 14, 12]\n",
        "z_scores(nums)"
      ],
      "metadata": {
        "id": "ml2qpSpFUYxV",
        "colab": {
          "base_uri": "https://localhost:8080/"
        },
        "outputId": "59a6c84a-7fbd-4045-cd20-1842cecc9ed3"
      },
      "execution_count": 71,
      "outputs": [
        {
          "output_type": "execute_result",
          "data": {
            "text/plain": [
              "[0.3627949275462695,\n",
              " -0.8774574991816753,\n",
              " 1.6030473542742143,\n",
              " -0.523099662973691,\n",
              " -0.1687418267657068,\n",
              " 0.5399738456502616,\n",
              " 1.0715105999622379,\n",
              " -0.523099662973691,\n",
              " -1.4089942534936515,\n",
              " -0.8774574991816753,\n",
              " 0.1856160094422774,\n",
              " 2.1345841085861905,\n",
              " -0.523099662973691,\n",
              " 0.8943316818582459,\n",
              " -1.0546364172856673,\n",
              " -0.34592074486969887,\n",
              " 1.425868436170222,\n",
              " 0.008437091338285308,\n",
              " -1.940531007805628,\n",
              " 0.1856160094422774,\n",
              " -0.1687418267657068]"
            ]
          },
          "metadata": {},
          "execution_count": 71
        }
      ]
    },
    {
      "cell_type": "markdown",
      "source": [
        "## Q10. Write a function to compute and return the Pearson correlation coefficient value of two list of numbers"
      ],
      "metadata": {
        "id": "YQSNHIfxUb6s"
      }
    },
    {
      "cell_type": "code",
      "source": [
        "\n",
        "def pearson_corr_coeff(lst_x, lst_y):\n",
        "  x_mean = mean(lst_x)\n",
        "  y_mean = mean(lst_y)\n",
        "  std_x = stdeviation(lst_x)\n",
        "  std_y = stdeviation(lst_y)\n",
        "\n",
        "  xi_minus_xmean_list = [xi - x_mean for xi in lst_x]\n",
        "  yi_minus_ymean_list = [yi - y_mean for yi in lst_y]\n",
        "\n",
        "  products = [x * y for x, y in zip(xi_minus_xmean_list, yi_minus_ymean_list)]\n",
        "\n",
        "  covariance = sum(products)/len(lst_x)\n",
        "  pearson_correlation_coefficient = covariance/(std_x * std_y)\n",
        "\n",
        "  return pearson_correlation_coefficient\n",
        "\n",
        "\n",
        "num_x = [15, 8, 22, 10, 12, 16, 19, 10, 5, 8, 14, 25, 10, 18, 7, 11, 21, 13, 2, 14, 12]\n",
        "num_y = [37, 20, 49, 22, 28, 38, 44, 26, 14, 21, 33, 56, 24, 40, 18, 29, 45, 30, 11, 34, 29]\n",
        "pearson_corr_coeff(num_x, num_y)"
      ],
      "metadata": {
        "id": "1YGqr3T6Uk6H",
        "colab": {
          "base_uri": "https://localhost:8080/"
        },
        "outputId": "9e46c6a5-5b9e-4886-e049-e392f904a970"
      },
      "execution_count": 85,
      "outputs": [
        {
          "output_type": "execute_result",
          "data": {
            "text/plain": [
              "0.993262622639254"
            ]
          },
          "metadata": {},
          "execution_count": 85
        }
      ]
    }
  ]
}