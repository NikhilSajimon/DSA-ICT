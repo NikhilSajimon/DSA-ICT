{
  "nbformat": 4,
  "nbformat_minor": 0,
  "metadata": {
    "colab": {
      "provenance": [],
      "authorship_tag": "ABX9TyPGK9f9drvFmHf+W09TlSyd",
      "include_colab_link": true
    },
    "kernelspec": {
      "name": "python3",
      "display_name": "Python 3"
    },
    "language_info": {
      "name": "python"
    }
  },
  "cells": [
    {
      "cell_type": "markdown",
      "metadata": {
        "id": "view-in-github",
        "colab_type": "text"
      },
      "source": [
        "<a href=\"https://colab.research.google.com/github/NikhilSajimon/DSA-ICT/blob/main/Python_additional_assesment_Nikhil_Saji.ipynb\" target=\"_parent\"><img src=\"https://colab.research.google.com/assets/colab-badge.svg\" alt=\"Open In Colab\"/></a>"
      ]
    },
    {
      "cell_type": "code",
      "execution_count": null,
      "metadata": {
        "id": "DvgrFJ-EU4bx"
      },
      "outputs": [],
      "source": [
        "# 1. Grocery Store Billing\n",
        "# A grocery store wants to automate billing.\n",
        "# ● Take the names and prices of items from the user until they type \"done\".\n",
        "# ● Print the total bill.\n",
        "# ● If total bill > ₹500, apply 10% discount."
      ]
    },
    {
      "cell_type": "code",
      "source": [
        "print('Billing: Please enter item and price\\n')\n",
        "\n",
        "items = []\n",
        "total = 0\n",
        "while True:\n",
        "\n",
        "  item = input('Add Item: ')\n",
        "  if item == 'done':\n",
        "    break\n",
        "  items.append(item)\n",
        "  price = int(input('Price: '))\n",
        "  total += price\n",
        "\n",
        "print(f'Selected items are: {items}')\n",
        "if total >= 500:\n",
        "  total -= (0.1 * total)\n",
        "\n",
        "print(f'Total Bill: {total}')"
      ],
      "metadata": {
        "colab": {
          "base_uri": "https://localhost:8080/"
        },
        "id": "i7rX42mGVXfu",
        "outputId": "81c2bef8-e563-4581-f19e-59597236059c"
      },
      "execution_count": 9,
      "outputs": [
        {
          "output_type": "stream",
          "name": "stdout",
          "text": [
            "Billing: Please enter item and price\n",
            "\n",
            "Add Item: Apple\n",
            "Price: 300\n",
            "Add Item: Orange\n",
            "Price: 150\n",
            "Add Item: Grapes\n",
            "Price: 180\n",
            "Add Item: done\n",
            "Selected items are: ['Apple', 'Orange', 'Grapes']\n",
            "Total Bill: 567.0\n"
          ]
        }
      ]
    },
    {
      "cell_type": "code",
      "source": [
        "# 2. Exam Result Calculator\n",
        "# A school stores student marks in a list.\n",
        "# ● Input marks for 5 subjects.\n",
        "# ● Calculate percentage.\n",
        "# ● Print grade:\n",
        "\n",
        "# ○ ≥ 90: A\n",
        "# ○ ≥ 75: B\n",
        "# ○ ≥ 50: C\n",
        "# ○ else: Fail"
      ],
      "metadata": {
        "id": "s-bXp55YX4NF"
      },
      "execution_count": 10,
      "outputs": []
    },
    {
      "cell_type": "code",
      "source": [
        "print('Exam Result Calculator\\n')\n",
        "print('Enter marks (Out of 100)')\n",
        "\n",
        "m1 = int(input('Maths: '))\n",
        "m2 = int(input('Physics: '))\n",
        "m3 = int(input('Chemistry: '))\n",
        "m4 = int(input('Biology: '))\n",
        "m5 = int(input('English: '))\n",
        "\n",
        "score = m1+m2+m3+m4+m5\n",
        "percentage = score/500 * 100\n",
        "print(f'Percentage Scored: {percentage:.2f}')\n",
        "\n",
        "if percentage >= 90:\n",
        "  grade = 'A'\n",
        "elif percentage >= 75:\n",
        "  grade = 'B'\n",
        "elif percentage >= 50:\n",
        "  grade = 'C'\n",
        "else:\n",
        "  grade = 'Failed'\n",
        "\n",
        "print(f'Grade: {grade}')\n"
      ],
      "metadata": {
        "colab": {
          "base_uri": "https://localhost:8080/"
        },
        "id": "EjopXllWYBIN",
        "outputId": "d27d286e-24e0-4d30-c635-71b21be5f965"
      },
      "execution_count": 14,
      "outputs": [
        {
          "output_type": "stream",
          "name": "stdout",
          "text": [
            "Exam Result Calculator\n",
            "\n",
            "Enter marks (Out of 100)\n",
            "Maths: 85\n",
            "Physics: 90\n",
            "Chemistry: 85\n",
            "Biology: 80\n",
            "English: 95\n",
            "Percentage Scored: 87.00\n",
            "Grade: B\n"
          ]
        }
      ]
    },
    {
      "cell_type": "code",
      "source": [
        "# 3. ATM Simulation\n",
        "# Simulate an ATM with:\n",
        "# ● Starting balance = ₹1000\n",
        "# ● Options: Deposit, Withdraw, Check balance, Exit\n",
        "# ● Prevent withdrawal if funds are insufficient."
      ],
      "metadata": {
        "id": "LHJQu9svaGSJ"
      },
      "execution_count": null,
      "outputs": []
    },
    {
      "cell_type": "code",
      "source": [
        "\n",
        "balance = 1000\n",
        "\n",
        "while True:\n",
        "    print(\"\\n  ATM Menu\")\n",
        "    print(\"1. Deposit\")\n",
        "    print(\"2. Withdraw\")\n",
        "    print(\"3. Check Balance\")\n",
        "    print(\"4. Exit\")\n",
        "\n",
        "    choice = input(\"Select an option (1-4): \")\n",
        "\n",
        "    if choice == '1':\n",
        "        amount = float(input(\"Enter amount to deposit: (Rs.)\"))\n",
        "        if amount > 0:\n",
        "            balance += amount\n",
        "            print(f\"{amount} rupees deposited successfully.\")\n",
        "        else:\n",
        "            print(\"Invalid deposit amount.\")\n",
        "\n",
        "    elif choice == '2':\n",
        "        amount = float(input(\"Enter amount to withdraw: (Rs.)\"))\n",
        "        if amount <= balance:\n",
        "            balance -= amount\n",
        "            print(f\"{amount} rupees withdrawn successfully.\")\n",
        "        else:\n",
        "            print(\"Insufficient funds. Withdrawal denied.\")\n",
        "\n",
        "    elif choice == '3':\n",
        "        print(f\"Your current balance is: {balance} rupees\")\n",
        "\n",
        "    elif choice == '4':\n",
        "        print(\"Thank you for using the ATM. Goodbye!\")\n",
        "        break\n",
        "\n",
        "    else:\n",
        "        print(\"Invalid option. Please try again.\")"
      ],
      "metadata": {
        "colab": {
          "base_uri": "https://localhost:8080/"
        },
        "id": "KI0rbqBOfJJ5",
        "outputId": "de38dc94-3f40-4fa2-d5e6-2b0a2b8337ff"
      },
      "execution_count": 17,
      "outputs": [
        {
          "output_type": "stream",
          "name": "stdout",
          "text": [
            "\n",
            "  ATM Menu\n",
            "1. Deposit\n",
            "2. Withdraw\n",
            "3. Check Balance\n",
            "4. Exit\n",
            "Select an option (1-4): 2\n",
            "Enter amount to withdraw: (Rs.)500\n",
            "500.0 rupees withdrawn successfully.\n",
            "\n",
            "  ATM Menu\n",
            "1. Deposit\n",
            "2. Withdraw\n",
            "3. Check Balance\n",
            "4. Exit\n",
            "Select an option (1-4): 3\n",
            "Your current balance is: 500.0 rupees\n",
            "\n",
            "  ATM Menu\n",
            "1. Deposit\n",
            "2. Withdraw\n",
            "3. Check Balance\n",
            "4. Exit\n",
            "Select an option (1-4): 4\n",
            "Thank you for using the ATM. Goodbye!\n"
          ]
        }
      ]
    },
    {
      "cell_type": "code",
      "source": [
        "# 4. Cricket Score Tracker\n",
        "# Store player scores in a dictionary.\n",
        "# ● Add 5 players with scores.\n",
        "# ● Find and print top scorer’s name and score.\n",
        "# ● Update a player’s score after a match."
      ],
      "metadata": {
        "id": "KIF-7l6OgD2A"
      },
      "execution_count": null,
      "outputs": []
    },
    {
      "cell_type": "code",
      "source": [
        "\n",
        "player_scores = {\"Player A\": 45, \"Player B\": 78, \"Player C\": 32, \"Player D\": 56, \"Player E\": 67}\n",
        "\n",
        "max_score = max(player_scores.values())\n",
        "for player, score in player_scores.items():\n",
        "    if score == max_score:\n",
        "        top_scorer = player\n",
        "        break\n",
        "\n",
        "print(f\"Top Scorer: {top_scorer}\")\n",
        "\n",
        "\n",
        "player_scores[\"Player A\"] += 42\n",
        "print(f\"\\nUpdated score for Player A: {player_scores['Player A']}\")\n",
        "\n",
        "print(\"\\nCurrent Player Scores:\")\n",
        "for player, score in player_scores.items():\n",
        "    print(f\"{player}: {score} runs\")"
      ],
      "metadata": {
        "colab": {
          "base_uri": "https://localhost:8080/"
        },
        "id": "sUCWxIURgFzd",
        "outputId": "f113081d-746d-429b-90c2-a3d6097c7cdd"
      },
      "execution_count": 18,
      "outputs": [
        {
          "output_type": "stream",
          "name": "stdout",
          "text": [
            "Top Scorer: Player B\n",
            "\n",
            "Updated score for Player A: 87\n",
            "\n",
            "Current Player Scores:\n",
            "Player A: 87 runs\n",
            "Player B: 78 runs\n",
            "Player C: 32 runs\n",
            "Player D: 56 runs\n",
            "Player E: 67 runs\n"
          ]
        }
      ]
    },
    {
      "cell_type": "code",
      "source": [
        "# 5. Restaurant Order System\n",
        "# ● Menu stored in dictionary (item: price).\n",
        "# ● Take multiple orders from user.\n",
        "# ● Print final bill amount.\n",
        "# ● If order contains \"Pizza\", give ₹50 off.\n",
        "\n",
        "menu = {'Appam': 12, 'Idiyappam': 12, 'Porotta': 12, 'Chapati': 10, 'Dosa': 10, 'Masala Dosa': 75, 'Chicken Curry': 75, 'Beef Roast': 120, 'Vegetable Stew': 60, 'Pizza': 200}\n",
        "print('Available items: ')\n",
        "print(list(menu.keys()))\n",
        "\n",
        "order = []\n",
        "total = 0\n",
        "while True:\n",
        "  item = input('Add item: ')\n",
        "  if item == 'done':\n",
        "    break\n",
        "  order.append(item)\n",
        "\n",
        "for i in order:\n",
        "  total += menu[i]\n",
        "\n",
        "if 'pizza' in order:\n",
        "  total -= 50\n",
        "\n",
        "print(f'Total Bill : {total}')\n"
      ],
      "metadata": {
        "colab": {
          "base_uri": "https://localhost:8080/"
        },
        "id": "b2j3qBI-i4xR",
        "outputId": "cd5c4ebf-9bdd-4b41-b9d2-41d0d8b17605"
      },
      "execution_count": 23,
      "outputs": [
        {
          "output_type": "stream",
          "name": "stdout",
          "text": [
            "Available items: \n",
            "['Appam', 'Idiyappam', 'Porotta', 'Chapati', 'Dosa', 'Masala Dosa', 'Chicken Curry', 'Beef Roast', 'Vegetable Stew', 'Pizza']\n",
            "Add item: Appam\n",
            "Add item: Beef Roast\n",
            "Add item: Pizza\n",
            "Add item: done\n",
            "Total Bill : 332\n"
          ]
        }
      ]
    },
    {
      "cell_type": "code",
      "source": [
        "# 6. Temperature Conversion Tool\n",
        "# Write a program that:\n",
        "# ● Asks user for temperature in Celsius.\n",
        "# ● Converts to Fahrenheit using formula:"
      ],
      "metadata": {
        "id": "0ks8kn1JsRok"
      },
      "execution_count": null,
      "outputs": []
    },
    {
      "cell_type": "code",
      "source": [
        "celsius = float(input(\"Enter temperature in Celsius: \"))\n",
        "fahrenheit = (celsius * 9/5) + 32\n",
        "print(f\"{celsius}°C is equal to {fahrenheit:.2f}°F\")\n"
      ],
      "metadata": {
        "colab": {
          "base_uri": "https://localhost:8080/"
        },
        "id": "SYbFURO3shMm",
        "outputId": "fc9965f0-07a9-43f0-8882-839838ae7be0"
      },
      "execution_count": 24,
      "outputs": [
        {
          "output_type": "stream",
          "name": "stdout",
          "text": [
            "Enter temperature in Celsius: 50\n",
            "50.0°C is equal to 122.00°F\n"
          ]
        }
      ]
    },
    {
      "cell_type": "code",
      "source": [
        "# 7. Online Shopping Cart\n",
        "# ● Create a cart as a list.\n",
        "# ● Allow user to add items, remove items, and view cart.\n",
        "# ● Exit when user types \"checkout\"."
      ],
      "metadata": {
        "id": "-RCvlHPFssgU"
      },
      "execution_count": null,
      "outputs": []
    },
    {
      "cell_type": "code",
      "source": [
        "cart = []\n",
        "\n",
        "print(\"Type 'add item(1)', 'remove item(2)', 'view(3)', or 'checkout' to exit.\\n\")\n",
        "\n",
        "while True:\n",
        "    command = input(\"Enter command: \").strip().lower()\n",
        "\n",
        "    if command == \"checkout\":\n",
        "        print(\"\\nFinal Cart:\", cart)\n",
        "        break\n",
        "\n",
        "    elif command == '1':\n",
        "        item = input('Enter Item to add: ')\n",
        "        if item:\n",
        "            cart.append(item)\n",
        "            print(f\"{item} added to cart.\")\n",
        "        else:\n",
        "            print(\"please enter an item.\")\n",
        "\n",
        "    elif command == '2':\n",
        "        item = input('Enter item to be removed: ')\n",
        "        if item in cart:\n",
        "            cart.remove(item)\n",
        "            print(f\"{item} removed from cart.\")\n",
        "        else:\n",
        "            print(f\"{item} not found in cart.\")\n",
        "\n",
        "    elif command == \"3\":\n",
        "        if cart:\n",
        "            print(\"Your cart contains:\", \", \".join(cart))\n",
        "        else:\n",
        "            print(\"Your cart is empty.\")\n",
        "\n",
        "    else:\n",
        "        print(\"Invalid command. Try 'add <item>', 'remove <item>', 'view', or 'checkout'.\")"
      ],
      "metadata": {
        "colab": {
          "base_uri": "https://localhost:8080/"
        },
        "id": "DAWHYUVEsxG3",
        "outputId": "e91e4ad2-5d74-4fca-f4e0-67dd2eb64c3a"
      },
      "execution_count": 27,
      "outputs": [
        {
          "output_type": "stream",
          "name": "stdout",
          "text": [
            "Type 'add item(1)', 'remove item(2)', 'view(3)', or 'checkout' to exit.\n",
            "\n",
            "Enter command: 1\n",
            "Enter Item to add: Apple\n",
            "Apple added to cart.\n",
            "Enter command: 1\n",
            "Enter Item to add: Orange\n",
            "Orange added to cart.\n",
            "Enter command: 1\n",
            "Enter Item to add: Grapes\n",
            "Grapes added to cart.\n",
            "Enter command: 1\n",
            "Enter Item to add: Aubergine\n",
            "Aubergine added to cart.\n",
            "Enter command: 2\n",
            "Enter item to be removed: Aubergine\n",
            "Aubergine removed from cart.\n",
            "Enter command: 3\n",
            "Your cart contains: Apple, Orange, Grapes\n",
            "Enter command: checkout\n",
            "\n",
            "Final Cart: ['Apple', 'Orange', 'Grapes']\n"
          ]
        }
      ]
    },
    {
      "cell_type": "code",
      "source": [
        "# 8. Student Attendance Tracker\n",
        "# ● Store student names in a list.\n",
        "# ● Mark attendance as P or A.\n",
        "# ● Print the total number of present and absent students."
      ],
      "metadata": {
        "id": "Ph3xvIjOvTwR"
      },
      "execution_count": null,
      "outputs": []
    },
    {
      "cell_type": "code",
      "source": [
        "\n",
        "students = [\"Saketh\", \"Sreesanth\", \"Nikhil\", \"Aswathi\", \"Lakshmi\", \"Sandra\"]\n",
        "\n",
        "attendance = {}\n",
        "\n",
        "for student in students:\n",
        "    attend = input(f\"Mark attendance for {student} (P/A): \")\n",
        "    if attend in ['P', 'A']:\n",
        "        attendance[student] = attend\n",
        "    else:\n",
        "        print(\"Invalid input.\")\n",
        "\n",
        "\n",
        "present_count = list(attendance.values()).count('P')\n",
        "absent_count = list(attendance.values()).count('A')\n",
        "\n",
        "print(\"\\nAttendance Summary:\")\n",
        "print(f\"Present: {present_count}\")\n",
        "print(f\"Absent: {absent_count}\")"
      ],
      "metadata": {
        "colab": {
          "base_uri": "https://localhost:8080/"
        },
        "id": "ZiNfeZzxvfyP",
        "outputId": "21e6588f-0b03-4247-e1bd-09a5c0dbab5a"
      },
      "execution_count": 28,
      "outputs": [
        {
          "output_type": "stream",
          "name": "stdout",
          "text": [
            "Mark attendance for Saketh (P/A): P\n",
            "Mark attendance for Sreesanth (P/A): P\n",
            "Mark attendance for Nikhil (P/A): P\n",
            "Mark attendance for Aswathi (P/A): P\n",
            "Mark attendance for Lakshmi (P/A): P\n",
            "Mark attendance for Sandra (P/A): P\n",
            "\n",
            "Attendance Summary:\n",
            "Present: 6\n",
            "Absent: 0\n"
          ]
        }
      ]
    },
    {
      "cell_type": "code",
      "source": [
        "# 9. Cinema Ticket Booking System\n",
        "# Create a program where users can book movie tickets. A theater has 50 seats in total. Each\n",
        "# ticket costs ₹120.\n",
        "# ● Ask the user how many tickets they want.\n",
        "# ● If enough seats are available → confirm booking and reduce available seats.\n",
        "# ● If not enough seats → show an error message.\n",
        "# ● Show remaining seats after each booking."
      ],
      "metadata": {
        "id": "AtdiFD_ByLHY"
      },
      "execution_count": null,
      "outputs": []
    },
    {
      "cell_type": "code",
      "source": [
        "total_seats = 50\n",
        "ticket_price = 120\n",
        "\n",
        "while total_seats > 0:\n",
        "    print(f\"\\nAvailable seats: {total_seats}\")\n",
        "    try:\n",
        "        tickets_requested = int(input(\"How many tickets would you like to book? \"))\n",
        "\n",
        "        if tickets_requested <= 0:\n",
        "            print(\"Please enter a valid number of tickets.\")\n",
        "        elif tickets_requested <= total_seats:\n",
        "            total_cost = tickets_requested * ticket_price\n",
        "            total_seats -= tickets_requested\n",
        "            print(f\"Booking confirmed for {tickets_requested} ticket(s). Total cost: {total_cost}\")\n",
        "            print(f\"Remaining seats: {total_seats}\")\n",
        "        else:\n",
        "            print(f\"Not enough seats available. Only {total_seats} seat(s) left.\")\n",
        "    except ValueError:\n",
        "        print(\"Invalid input. Please enter a number.\")\n",
        "\n",
        "print(\"\\nHouse Full! No more tickets available.\")\n"
      ],
      "metadata": {
        "colab": {
          "base_uri": "https://localhost:8080/"
        },
        "id": "WeWvYKvI1T3J",
        "outputId": "9f16e517-b41f-4412-a6ab-1567ec62c01d"
      },
      "execution_count": 29,
      "outputs": [
        {
          "output_type": "stream",
          "name": "stdout",
          "text": [
            "\n",
            "Available seats: 50\n",
            "How many tickets would you like to book? 12\n",
            "Booking confirmed for 12 ticket(s). Total cost: 1440\n",
            "Remaining seats: 38\n",
            "\n",
            "Available seats: 38\n",
            "How many tickets would you like to book? 30\n",
            "Booking confirmed for 30 ticket(s). Total cost: 3600\n",
            "Remaining seats: 8\n",
            "\n",
            "Available seats: 8\n",
            "How many tickets would you like to book? 10\n",
            "Not enough seats available. Only 8 seat(s) left.\n",
            "\n",
            "Available seats: 8\n",
            "How many tickets would you like to book? 8\n",
            "Booking confirmed for 8 ticket(s). Total cost: 960\n",
            "Remaining seats: 0\n",
            "\n",
            "House Full! No more tickets available.\n"
          ]
        }
      ]
    },
    {
      "cell_type": "code",
      "source": [
        "# 10. Bank Loan Eligibility Checker\n",
        "# A bank provides loans only if:\n",
        "# ● Salary ≥ 25,000\n",
        "# ● Credit Score ≥ 650\n",
        "# ● Age between 21 and 60\n",
        "# Ask the user for salary, credit score, and age, then decide if they are eligible."
      ],
      "metadata": {
        "id": "tpaqpJP_2KJC"
      },
      "execution_count": null,
      "outputs": []
    },
    {
      "cell_type": "code",
      "source": [
        "print('Bank Loan Eligibility Checker\\n')\n",
        "\n",
        "salary = int(input(\"Enter Salary: \"))\n",
        "credit = int(input(\"Enter Credit Score: \"))\n",
        "age = int(input(\"Age: \"))\n",
        "\n",
        "if salary >= 25000 and credit >= 650 and 21 <= age <= 60:\n",
        "  print('You are eligible for loan.')\n",
        "else:\n",
        "  print('Sorry, you are ineligible.')\n"
      ],
      "metadata": {
        "colab": {
          "base_uri": "https://localhost:8080/"
        },
        "id": "WPinX00w2MJP",
        "outputId": "4a1f4a2c-4da8-43dc-ecf7-9eec8bd9d5ad"
      },
      "execution_count": 31,
      "outputs": [
        {
          "output_type": "stream",
          "name": "stdout",
          "text": [
            "Bank Loan Eligibility Checker\n",
            "\n",
            "Enter Salary: 35000\n",
            "Enter Credit Score: 500\n",
            "Age: 25\n",
            "Sorry, you are ineligible.\n"
          ]
        }
      ]
    }
  ]
}